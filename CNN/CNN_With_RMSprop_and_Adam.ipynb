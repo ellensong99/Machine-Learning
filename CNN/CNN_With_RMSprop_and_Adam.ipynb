{
  "cells": [
    {
      "cell_type": "markdown",
      "metadata": {
        "id": "faqEUoDMaG3s"
      },
      "source": [
        "#### Part 5 Train CNN with RMSprop and Adam\n",
        "\n"
      ]
    },
    {
      "cell_type": "code",
      "execution_count": 2,
      "metadata": {
        "id": "6pMP01CzRIr1"
      },
      "outputs": [],
      "source": [
        "import numpy as np\n",
        "import keras\n",
        "from keras.datasets import mnist \n",
        "import matplotlib.pyplot as plt\n",
        "import tensorflow as tf\n",
        "import cv2\n",
        "\n",
        "(X_train, Y_train), (X_test, Y_test) = mnist.load_data()"
      ]
    },
    {
      "cell_type": "code",
      "execution_count": 3,
      "metadata": {
        "id": "oxUAOEHgiNhO"
      },
      "outputs": [],
      "source": [
        "def resizing(mnist):\n",
        "     train_data = []\n",
        "     for img in mnist:\n",
        "            resized_img = cv2.resize(img, (32, 32))\n",
        "            train_data.append(resized_img)\n",
        "     return train_data\n",
        "newX_train = np.array(resizing(X_train))\n",
        "newX_test = np.array(resizing(X_test))"
      ]
    },
    {
      "cell_type": "code",
      "execution_count": 4,
      "metadata": {
        "id": "LkFE1hIvA70P"
      },
      "outputs": [],
      "source": [
        "from keras import backend\n",
        "if keras.backend.image_data_format() == 'channels_first':\n",
        "  newX_train = newX_train.reshape(len(newX_train), 1, 32, 32)\n",
        "  newX_test = newX_test.reshape(len(newX_test), 1, 32, 32)\n",
        "  input_shape = (1, 32, 32)\n",
        "else:\n",
        "  newX_train = newX_train.reshape(len(newX_train), 32, 32, 1)\n",
        "  newX_test = newX_test.reshape(len(newX_test), 32, 32, 1)\n",
        "  input_shape = (32, 32, 1)"
      ]
    },
    {
      "cell_type": "code",
      "execution_count": 5,
      "metadata": {
        "id": "giMn6X2MJLZR"
      },
      "outputs": [],
      "source": [
        "from keras.utils import np_utils\n",
        "newX_train = newX_train.astype('float32')\n",
        "newX_train /= 255\n",
        "newX_test = newX_test.astype('float32')\n",
        "newX_test /= 255\n",
        "Y_train = keras.utils.np_utils.to_categorical(Y_train, 10)\n",
        "Y_test = keras.utils.np_utils.to_categorical(Y_test, 10)"
      ]
    },
    {
      "cell_type": "code",
      "execution_count": null,
      "metadata": {
        "id": "5zMxoVU-BLLp"
      },
      "outputs": [],
      "source": [
        "from keras.models import Sequential\n",
        "from keras.layers import Conv2D, MaxPooling2D, Dense, Dropout, Flatten \n",
        "modela = Sequential()\n",
        "modela.add(Conv2D(64, (3, 3), activation='relu', input_shape=input_shape, padding='same'))\n",
        "modela.add(MaxPooling2D(pool_size=(2, 2), strides = (2, 2)))\n",
        "modela.add(Conv2D(128, (3, 3), activation='relu', input_shape=input_shape, padding='same'))\n",
        "modela.add(MaxPooling2D(pool_size=(2, 2), strides = (2, 2)))\n",
        "modela.add(Conv2D(256, (3, 3), activation='relu', input_shape=input_shape, padding='same'))\n",
        "modela.add(Conv2D(256, (3, 3), activation='relu', input_shape=input_shape, padding='same'))\n",
        "modela.add(MaxPooling2D(pool_size=(2, 2), strides = (2, 2)))\n",
        "modela.add(Conv2D(512, (3, 3), activation='relu', input_shape=input_shape, padding='same'))\n",
        "modela.add(Conv2D(512, (3, 3), activation='relu', input_shape=input_shape, padding='same'))\n",
        "modela.add(MaxPooling2D(pool_size=(2, 2), strides = (2, 2)))\n",
        "modela.add(Conv2D(512, (3, 3), activation='relu', input_shape=input_shape, padding='same'))\n",
        "modela.add(Conv2D(512, (3, 3), activation='relu', input_shape=input_shape, padding='same'))\n",
        "modela.add(MaxPooling2D(pool_size=(2, 2), strides = (2, 2)))\n",
        "modela.add(Flatten()) \n",
        "modela.add(Dense(4096, activation='relu'))\n",
        "modela.add(Dropout(0.5))\n",
        "modela.add(Dense(4096, activation='relu'))\n",
        "modela.add(Dropout(0.5))\n",
        "modela.add(Dense(10, activation='sigmoid'))\n",
        "modela.summary()"
      ]
    },
    {
      "cell_type": "code",
      "execution_count": null,
      "metadata": {
        "id": "ZHdZ43RaIIJr"
      },
      "outputs": [],
      "source": [
        "modela.compile(loss='categorical_crossentropy', optimizer=tf.keras.optimizers.Adam(learning_rate=1e-6), metrics=['accuracy'])"
      ]
    },
    {
      "cell_type": "code",
      "execution_count": null,
      "metadata": {
        "id": "uD5Fq28X5ucr"
      },
      "outputs": [],
      "source": [
        "historya = modela.fit(newX_train[:6000], Y_train[:6000], batch_size=32, validation_data=(newX_test,Y_test), epochs=10, verbose=1)\n",
        "score = modela.evaluate(newX_test, Y_test, batch_size=32)"
      ]
    },
    {
      "cell_type": "code",
      "execution_count": null,
      "metadata": {
        "id": "uuXXvJdbWOf4"
      },
      "outputs": [],
      "source": [
        "# (i) test accuracy vs the number of epochs (say 3 ∼ 5)\n",
        "plt.plot(historya.history['val_accuracy'])\n",
        "plt.title('Test Accuracy vs Number of Epochs')\n",
        "plt.ylabel('Test Accuracy')\n",
        "plt.xlabel('Number of Epochs')\n",
        "plt.show()\n",
        "# (ii) training accuracy vs the number of epochs\n",
        "plt.plot(historya.history['accuracy'])\n",
        "plt.title('Train Accuracy vs Number of Epochs')\n",
        "plt.ylabel('Train Accuracy')\n",
        "plt.xlabel('Number of Epochs')\n",
        "plt.show()"
      ]
    },
    {
      "cell_type": "code",
      "execution_count": null,
      "metadata": {
        "id": "rv5naeSapmeM"
      },
      "outputs": [],
      "source": [
        "!wget -nc https://raw.githubusercontent.com/brpy/colab-pdf/master/colab_pdf.py\n",
        "from colab_pdf import colab_pdf\n",
        "colab_pdf('A3E1-5.ipynb')"
      ]
    },
    {
      "cell_type": "markdown",
      "metadata": {
        "id": "wYH7CpDVadu6"
      },
      "source": [
        "### Optimzer: RMSprop"
      ]
    },
    {
      "cell_type": "code",
      "execution_count": 7,
      "metadata": {
        "colab": {
          "base_uri": "https://localhost:8080/"
        },
        "id": "IIlhbmLMtgOx",
        "outputId": "10bbdaa5-ca7f-41d9-b942-504722d64458"
      },
      "outputs": [
        {
          "output_type": "stream",
          "name": "stdout",
          "text": [
            "Model: \"sequential_1\"\n",
            "_________________________________________________________________\n",
            " Layer (type)                Output Shape              Param #   \n",
            "=================================================================\n",
            " conv2d_8 (Conv2D)           (None, 32, 32, 64)        640       \n",
            "                                                                 \n",
            " max_pooling2d_5 (MaxPooling  (None, 16, 16, 64)       0         \n",
            " 2D)                                                             \n",
            "                                                                 \n",
            " conv2d_9 (Conv2D)           (None, 16, 16, 128)       73856     \n",
            "                                                                 \n",
            " max_pooling2d_6 (MaxPooling  (None, 8, 8, 128)        0         \n",
            " 2D)                                                             \n",
            "                                                                 \n",
            " conv2d_10 (Conv2D)          (None, 8, 8, 256)         295168    \n",
            "                                                                 \n",
            " conv2d_11 (Conv2D)          (None, 8, 8, 256)         590080    \n",
            "                                                                 \n",
            " max_pooling2d_7 (MaxPooling  (None, 4, 4, 256)        0         \n",
            " 2D)                                                             \n",
            "                                                                 \n",
            " conv2d_12 (Conv2D)          (None, 4, 4, 512)         1180160   \n",
            "                                                                 \n",
            " conv2d_13 (Conv2D)          (None, 4, 4, 512)         2359808   \n",
            "                                                                 \n",
            " max_pooling2d_8 (MaxPooling  (None, 2, 2, 512)        0         \n",
            " 2D)                                                             \n",
            "                                                                 \n",
            " conv2d_14 (Conv2D)          (None, 2, 2, 512)         2359808   \n",
            "                                                                 \n",
            " conv2d_15 (Conv2D)          (None, 2, 2, 512)         2359808   \n",
            "                                                                 \n",
            " max_pooling2d_9 (MaxPooling  (None, 1, 1, 512)        0         \n",
            " 2D)                                                             \n",
            "                                                                 \n",
            " flatten (Flatten)           (None, 512)               0         \n",
            "                                                                 \n",
            " dense (Dense)               (None, 4096)              2101248   \n",
            "                                                                 \n",
            " dropout (Dropout)           (None, 4096)              0         \n",
            "                                                                 \n",
            " dense_1 (Dense)             (None, 4096)              16781312  \n",
            "                                                                 \n",
            " dropout_1 (Dropout)         (None, 4096)              0         \n",
            "                                                                 \n",
            " dense_2 (Dense)             (None, 10)                40970     \n",
            "                                                                 \n",
            "=================================================================\n",
            "Total params: 28,142,858\n",
            "Trainable params: 28,142,858\n",
            "Non-trainable params: 0\n",
            "_________________________________________________________________\n"
          ]
        }
      ],
      "source": [
        "from keras.models import Sequential\n",
        "from keras.layers import Conv2D, MaxPooling2D, Dense, Dropout, Flatten \n",
        "modelr = Sequential()\n",
        "modelr.add(Conv2D(64, (3, 3), activation='relu', input_shape=input_shape, padding='same'))\n",
        "modelr.add(MaxPooling2D(pool_size=(2, 2), strides = (2, 2)))\n",
        "modelr.add(Conv2D(128, (3, 3), activation='relu', input_shape=input_shape, padding='same'))\n",
        "modelr.add(MaxPooling2D(pool_size=(2, 2), strides = (2, 2)))\n",
        "modelr.add(Conv2D(256, (3, 3), activation='relu', input_shape=input_shape, padding='same'))\n",
        "modelr.add(Conv2D(256, (3, 3), activation='relu', input_shape=input_shape, padding='same'))\n",
        "modelr.add(MaxPooling2D(pool_size=(2, 2), strides = (2, 2)))\n",
        "modelr.add(Conv2D(512, (3, 3), activation='relu', input_shape=input_shape, padding='same'))\n",
        "modelr.add(Conv2D(512, (3, 3), activation='relu', input_shape=input_shape, padding='same'))\n",
        "modelr.add(MaxPooling2D(pool_size=(2, 2), strides = (2, 2)))\n",
        "modelr.add(Conv2D(512, (3, 3), activation='relu', input_shape=input_shape, padding='same'))\n",
        "modelr.add(Conv2D(512, (3, 3), activation='relu', input_shape=input_shape, padding='same'))\n",
        "modelr.add(MaxPooling2D(pool_size=(2, 2), strides = (2, 2)))\n",
        "modelr.add(Flatten()) \n",
        "modelr.add(Dense(4096, activation='relu'))\n",
        "modelr.add(Dropout(0.5))\n",
        "modelr.add(Dense(4096, activation='relu'))\n",
        "modelr.add(Dropout(0.5))\n",
        "modelr.add(Dense(10, activation='sigmoid'))\n",
        "modelr.summary()"
      ]
    },
    {
      "cell_type": "code",
      "execution_count": 8,
      "metadata": {
        "id": "bCyCDzMTTJw6"
      },
      "outputs": [],
      "source": [
        "modelr.compile(loss='categorical_crossentropy', optimizer=tf.keras.optimizers.RMSprop(), metrics=['accuracy'])"
      ]
    },
    {
      "cell_type": "code",
      "execution_count": 9,
      "metadata": {
        "colab": {
          "base_uri": "https://localhost:8080/"
        },
        "id": "9C_3R3vPTbjE",
        "outputId": "58f3f932-40fb-44c9-bfab-392de232c2cb"
      },
      "outputs": [
        {
          "output_type": "stream",
          "name": "stdout",
          "text": [
            "Epoch 1/10\n",
            "188/188 [==============================] - 454s 2s/step - loss: 2.6957 - accuracy: 0.1072 - val_loss: 2.3021 - val_accuracy: 0.0982\n",
            "Epoch 2/10\n",
            "188/188 [==============================] - 439s 2s/step - loss: 1.7254 - accuracy: 0.3483 - val_loss: 1.3414 - val_accuracy: 0.5375\n",
            "Epoch 3/10\n",
            "188/188 [==============================] - 445s 2s/step - loss: 0.5232 - accuracy: 0.8555 - val_loss: 0.2617 - val_accuracy: 0.9303\n",
            "Epoch 4/10\n",
            "188/188 [==============================] - 437s 2s/step - loss: 0.3048 - accuracy: 0.9363 - val_loss: 0.9524 - val_accuracy: 0.8312\n",
            "Epoch 5/10\n",
            "188/188 [==============================] - 438s 2s/step - loss: 0.2873 - accuracy: 0.9458 - val_loss: 0.4795 - val_accuracy: 0.9224\n",
            "Epoch 6/10\n",
            "188/188 [==============================] - 438s 2s/step - loss: 0.2263 - accuracy: 0.9633 - val_loss: 0.3213 - val_accuracy: 0.9467\n",
            "Epoch 7/10\n",
            "188/188 [==============================] - 440s 2s/step - loss: 0.2421 - accuracy: 0.9630 - val_loss: 0.3537 - val_accuracy: 0.8670\n",
            "Epoch 8/10\n",
            "188/188 [==============================] - 441s 2s/step - loss: 0.2654 - accuracy: 0.9603 - val_loss: 0.1921 - val_accuracy: 0.9581\n",
            "Epoch 9/10\n",
            "188/188 [==============================] - 441s 2s/step - loss: 0.1952 - accuracy: 0.9675 - val_loss: 0.6959 - val_accuracy: 0.9557\n",
            "Epoch 10/10\n",
            "188/188 [==============================] - 445s 2s/step - loss: 0.1723 - accuracy: 0.9710 - val_loss: 0.2220 - val_accuracy: 0.9432\n",
            "313/313 [==============================] - 59s 187ms/step - loss: 0.2220 - accuracy: 0.9432\n"
          ]
        },
        {
          "output_type": "execute_result",
          "data": {
            "text/plain": [
              "[0.22202114760875702, 0.9431999921798706]"
            ]
          },
          "metadata": {},
          "execution_count": 9
        }
      ],
      "source": [
        "historyr = modelr.fit(newX_train[:6000], Y_train[:6000], batch_size=32, validation_data=(newX_test,Y_test), epochs=10, verbose=1)\n",
        "modelr.evaluate(newX_test, Y_test, batch_size=32)"
      ]
    },
    {
      "cell_type": "code",
      "execution_count": 10,
      "metadata": {
        "id": "zM7OEYzCTfDP",
        "colab": {
          "base_uri": "https://localhost:8080/",
          "height": 573
        },
        "outputId": "893b48f6-f128-40c0-8db3-67b10cce4ef3"
      },
      "outputs": [
        {
          "output_type": "display_data",
          "data": {
            "image/png": "[encoded data removed]",
            "text/plain": [
              "<Figure size 432x288 with 1 Axes>"
            ]
          },
          "metadata": {
            "needs_background": "light"
          }
        },
        {
          "output_type": "display_data",
          "data": {
            "image/png": "[encoded data removed]",
            "text/plain": [
              "<Figure size 432x288 with 1 Axes>"
            ]
          },
          "metadata": {
            "needs_background": "light"
          }
        }
      ],
      "source": [
        "# (i) test accuracy vs the number of epochs (say 3 ∼ 5)\n",
        "plt.plot(historyr.history['val_accuracy'])\n",
        "plt.title('Test Accuracy vs Number of Epochs')\n",
        "plt.ylabel('Test Accuracy')\n",
        "plt.xlabel('Number of Epochs')\n",
        "plt.show()\n",
        "# (ii) training accuracy vs the number of epochs\n",
        "plt.plot(historyr.history['accuracy'])\n",
        "plt.title('Train Accuracy vs Number of Epochs')\n",
        "plt.ylabel('Train Accuracy')\n",
        "plt.xlabel('Number of Epochs')\n",
        "plt.show()"
      ]
    },
    {
      "cell_type": "code",
      "execution_count": 13,
      "metadata": {
        "id": "YGBB22sapWdP",
        "colab": {
          "base_uri": "https://localhost:8080/",
          "height": 365
        },
        "outputId": "56411aed-44ae-44e4-c4cb-d7cf578d1b2d"
      },
      "outputs": [
        {
          "output_type": "stream",
          "name": "stdout",
          "text": [
            "File ‘colab_pdf.py’ already there; not retrieving.\n",
            "\n",
            "\n",
            "WARNING: apt does not have a stable CLI interface. Use with caution in scripts.\n",
            "\n",
            "\n",
            "WARNING: apt does not have a stable CLI interface. Use with caution in scripts.\n",
            "\n",
            "[NbConvertApp] Converting notebook /content/drive/MyDrive/Colab Notebooks/A3E1-5.ipynb to pdf\n",
            "[NbConvertApp] Support files will be in A3E1-5_files/\n",
            "[NbConvertApp] Making directory ./A3E1-5_files\n",
            "[NbConvertApp] Making directory ./A3E1-5_files\n",
            "[NbConvertApp] Writing 50459 bytes to ./notebook.tex\n",
            "[NbConvertApp] Building PDF\n",
            "[NbConvertApp] Running xelatex 3 times: [u'xelatex', u'./notebook.tex', '-quiet']\n",
            "[NbConvertApp] Running bibtex 1 time: [u'bibtex', u'./notebook']\n",
            "[NbConvertApp] WARNING | bibtex had problems, most likely because there were no citations\n",
            "[NbConvertApp] PDF successfully created\n",
            "[NbConvertApp] Writing 59933 bytes to /content/drive/My Drive/A3E1-5.pdf\n"
          ]
        },
        {
          "output_type": "display_data",
          "data": {
            "application/javascript": [
              "\n",
              "    async function download(id, filename, size) {\n",
              "      if (!google.colab.kernel.accessAllowed) {\n",
              "        return;\n",
              "      }\n",
              "      const div = document.createElement('div');\n",
              "      const label = document.createElement('label');\n",
              "      label.textContent = `Downloading \"${filename}\": `;\n",
              "      div.appendChild(label);\n",
              "      const progress = document.createElement('progress');\n",
              "      progress.max = size;\n",
              "      div.appendChild(progress);\n",
              "      document.body.appendChild(div);\n",
              "\n",
              "      const buffers = [];\n",
              "      let downloaded = 0;\n",
              "\n",
              "      const channel = await google.colab.kernel.comms.open(id);\n",
              "      // Send a message to notify the kernel that we're ready.\n",
              "      channel.send({})\n",
              "\n",
              "      for await (const message of channel.messages) {\n",
              "        // Send a message to notify the kernel that we're ready.\n",
              "        channel.send({})\n",
              "        if (message.buffers) {\n",
              "          for (const buffer of message.buffers) {\n",
              "            buffers.push(buffer);\n",
              "            downloaded += buffer.byteLength;\n",
              "            progress.value = downloaded;\n",
              "          }\n",
              "        }\n",
              "      }\n",
              "      const blob = new Blob(buffers, {type: 'application/binary'});\n",
              "      const a = document.createElement('a');\n",
              "      a.href = window.URL.createObjectURL(blob);\n",
              "      a.download = filename;\n",
              "      div.appendChild(a);\n",
              "      a.click();\n",
              "      div.remove();\n",
              "    }\n",
              "  "
            ],
            "text/plain": [
              "<IPython.core.display.Javascript object>"
            ]
          },
          "metadata": {}
        },
        {
          "output_type": "display_data",
          "data": {
            "application/javascript": [
              "download(\"download_53ed7318-04c9-4699-b6da-81b6494548be\", \"A3E1-5.pdf\", 59933)"
            ],
            "text/plain": [
              "<IPython.core.display.Javascript object>"
            ]
          },
          "metadata": {}
        },
        {
          "output_type": "execute_result",
          "data": {
            "application/vnd.google.colaboratory.intrinsic+json": {
              "type": "string"
            },
            "text/plain": [
              "'File ready to be Downloaded and Saved to Drive'"
            ]
          },
          "metadata": {},
          "execution_count": 13
        }
      ],
      "source": [
        "!wget -nc https://raw.githubusercontent.com/brpy/colab-pdf/master/colab_pdf.py\n",
        "from colab_pdf import colab_pdf\n",
        "colab_pdf('A3E1-5.ipynb')"
      ]
    }
  ],
  "metadata": {
    "colab": {
      "collapsed_sections": [],
      "name": "A3E1-5.ipynb",
      "provenance": []
    },
    "kernelspec": {
      "display_name": "Python 3",
      "name": "python3"
    },
    "language_info": {
      "name": "python"
    }
  },
  "nbformat": 4,
  "nbformat_minor": 0
}