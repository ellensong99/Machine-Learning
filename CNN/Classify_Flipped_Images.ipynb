{
  "cells": [
    {
      "cell_type": "markdown",
      "metadata": {
        "id": "0JYpIhcLnUoS"
      },
      "source": [
        "### Flip and blur the test set images\n"
      ]
    },
    {
      "cell_type": "code",
      "execution_count": 1,
      "metadata": {
        "colab": {
          "base_uri": "https://localhost:8080/"
        },
        "id": "fyg9fKq4fHi-",
        "outputId": "8ae26a5a-2a68-4e45-b90e-ac0df165daf1"
      },
      "outputs": [
        {
          "name": "stdout",
          "output_type": "stream",
          "text": [
            "Downloading data from https://storage.googleapis.com/tensorflow/tf-keras-datasets/mnist.npz\n",
            "11493376/11490434 [==============================] - 0s 0us/step\n",
            "11501568/11490434 [==============================] - 0s 0us/step\n"
          ]
        }
      ],
      "source": [
        "import numpy as np\n",
        "import keras\n",
        "from keras.datasets import mnist \n",
        "import matplotlib.pyplot as plt\n",
        "import tensorflow as tf\n",
        "import cv2\n",
        "\n",
        "(X_train, Y_train), (X_test, Y_test) = mnist.load_data()"
      ]
    },
    {
      "cell_type": "code",
      "execution_count": 2,
      "metadata": {
        "id": "HQDOCcO8fKE8"
      },
      "outputs": [],
      "source": [
        "def resizing(mnist):\n",
        "     train_data = []\n",
        "     for img in mnist:\n",
        "            resized_img = cv2.resize(img, (32, 32))\n",
        "            train_data.append(resized_img)\n",
        "     return train_data\n",
        "\n",
        "def flip_ver(mnist):\n",
        "     train_data = []\n",
        "     for img in mnist:\n",
        "            resized_img = cv2.resize(img, (32, 32))\n",
        "            resized_img = cv2.flip(resized_img, 0)\n",
        "            train_data.append(resized_img)\n",
        "     return train_data\n",
        "\n",
        "def flip_hor(mnist):\n",
        "     train_data = []\n",
        "     for img in mnist:\n",
        "            resized_img = cv2.resize(img, (32, 32))\n",
        "            resized_img = cv2.flip(resized_img, 1)\n",
        "            train_data.append(resized_img)\n",
        "     return train_data\n",
        "newX_train = np.array(resizing(X_train))\n",
        "verX_test = np.array(flip_ver(X_test))\n",
        "horX_test = np.array(flip_hor(X_test))"
      ]
    },
    {
      "cell_type": "code",
      "execution_count": 3,
      "metadata": {
        "id": "oYvwLszJfPLp"
      },
      "outputs": [],
      "source": [
        "from keras import backend\n",
        "if keras.backend.image_data_format() == 'channels_first':\n",
        "  newX_train = newX_train.reshape(len(newX_train), 1, 32, 32)\n",
        "  verX_test = verX_test.reshape(len(verX_test), 1, 32, 32)\n",
        "  horX_test = horX_test.reshape(len(horX_test), 1, 32, 32)\n",
        "  input_shape = (1, 32, 32)\n",
        "else:\n",
        "  newX_train = newX_train.reshape(len(newX_train), 32, 32, 1)\n",
        "  verX_test = verX_test.reshape(len(verX_test), 32, 32, 1)\n",
        "  horX_test = horX_test.reshape(len(horX_test), 32, 32, 1)\n",
        "  input_shape = (32, 32, 1)"
      ]
    },
    {
      "cell_type": "code",
      "execution_count": 4,
      "metadata": {
        "id": "N4tYjN2FfR2K"
      },
      "outputs": [],
      "source": [
        "from keras.utils import np_utils\n",
        "def nor(dataset):\n",
        "  dataset = dataset.astype('float32')\n",
        "  dataset /= 255\n",
        "  return dataset\n",
        "newX_train = nor(newX_train)\n",
        "verX_test = nor(verX_test)\n",
        "horX_test = nor(horX_test)\n",
        "Y_train = keras.utils.np_utils.to_categorical(Y_train, 10)\n",
        "Y_test = keras.utils.np_utils.to_categorical(Y_test, 10)"
      ]
    },
    {
      "cell_type": "code",
      "execution_count": 5,
      "metadata": {
        "colab": {
          "base_uri": "https://localhost:8080/"
        },
        "id": "8MgrD4TSfSw0",
        "outputId": "6d1c63ed-1874-4208-b18d-773f51cc6595"
      },
      "outputs": [
        {
          "name": "stdout",
          "output_type": "stream",
          "text": [
            "Model: \"sequential\"\n",
            "_________________________________________________________________\n",
            " Layer (type)                Output Shape              Param #   \n",
            "=================================================================\n",
            " conv2d (Conv2D)             (None, 32, 32, 64)        640       \n",
            "                                                                 \n",
            " max_pooling2d (MaxPooling2D  (None, 16, 16, 64)       0         \n",
            " )                                                               \n",
            "                                                                 \n",
            " conv2d_1 (Conv2D)           (None, 16, 16, 128)       73856     \n",
            "                                                                 \n",
            " max_pooling2d_1 (MaxPooling  (None, 8, 8, 128)        0         \n",
            " 2D)                                                             \n",
            "                                                                 \n",
            " conv2d_2 (Conv2D)           (None, 8, 8, 256)         295168    \n",
            "                                                                 \n",
            " conv2d_3 (Conv2D)           (None, 8, 8, 256)         590080    \n",
            "                                                                 \n",
            " max_pooling2d_2 (MaxPooling  (None, 4, 4, 256)        0         \n",
            " 2D)                                                             \n",
            "                                                                 \n",
            " conv2d_4 (Conv2D)           (None, 4, 4, 512)         1180160   \n",
            "                                                                 \n",
            " conv2d_5 (Conv2D)           (None, 4, 4, 512)         2359808   \n",
            "                                                                 \n",
            " max_pooling2d_3 (MaxPooling  (None, 2, 2, 512)        0         \n",
            " 2D)                                                             \n",
            "                                                                 \n",
            " conv2d_6 (Conv2D)           (None, 2, 2, 512)         2359808   \n",
            "                                                                 \n",
            " conv2d_7 (Conv2D)           (None, 2, 2, 512)         2359808   \n",
            "                                                                 \n",
            " max_pooling2d_4 (MaxPooling  (None, 1, 1, 512)        0         \n",
            " 2D)                                                             \n",
            "                                                                 \n",
            " flatten (Flatten)           (None, 512)               0         \n",
            "                                                                 \n",
            " dense (Dense)               (None, 4096)              2101248   \n",
            "                                                                 \n",
            " dropout (Dropout)           (None, 4096)              0         \n",
            "                                                                 \n",
            " dense_1 (Dense)             (None, 4096)              16781312  \n",
            "                                                                 \n",
            " dropout_1 (Dropout)         (None, 4096)              0         \n",
            "                                                                 \n",
            " dense_2 (Dense)             (None, 10)                40970     \n",
            "                                                                 \n",
            "=================================================================\n",
            "Total params: 28,142,858\n",
            "Trainable params: 28,142,858\n",
            "Non-trainable params: 0\n",
            "_________________________________________________________________\n"
          ]
        }
      ],
      "source": [
        "from keras.models import Sequential\n",
        "from keras.layers import Conv2D, MaxPooling2D, Dense, Dropout, Flatten \n",
        "model = Sequential()\n",
        "model.add(Conv2D(64, (3, 3), activation='relu', input_shape=input_shape, padding='same'))\n",
        "model.add(MaxPooling2D(pool_size=(2, 2), strides = (2, 2)))\n",
        "model.add(Conv2D(128, (3, 3), activation='relu', input_shape=input_shape, padding='same'))\n",
        "model.add(MaxPooling2D(pool_size=(2, 2), strides = (2, 2)))\n",
        "model.add(Conv2D(256, (3, 3), activation='relu', input_shape=input_shape, padding='same'))\n",
        "model.add(Conv2D(256, (3, 3), activation='relu', input_shape=input_shape, padding='same'))\n",
        "model.add(MaxPooling2D(pool_size=(2, 2), strides = (2, 2)))\n",
        "model.add(Conv2D(512, (3, 3), activation='relu', input_shape=input_shape, padding='same'))\n",
        "model.add(Conv2D(512, (3, 3), activation='relu', input_shape=input_shape, padding='same'))\n",
        "model.add(MaxPooling2D(pool_size=(2, 2), strides = (2, 2)))\n",
        "model.add(Conv2D(512, (3, 3), activation='relu', input_shape=input_shape, padding='same'))\n",
        "model.add(Conv2D(512, (3, 3), activation='relu', input_shape=input_shape, padding='same'))\n",
        "model.add(MaxPooling2D(pool_size=(2, 2), strides = (2, 2)))\n",
        "model.add(Flatten()) \n",
        "model.add(Dense(4096, activation='relu'))\n",
        "model.add(Dropout(0.5))\n",
        "model.add(Dense(4096, activation='relu'))\n",
        "model.add(Dropout(0.5))\n",
        "model.add(Dense(10, activation='softmax'))\n",
        "model.summary()"
      ]
    },
    {
      "cell_type": "code",
      "execution_count": 6,
      "metadata": {
        "id": "yul3_g4afZyK"
      },
      "outputs": [],
      "source": [
        "from tensorflow.keras.optimizers import SGD\n",
        "sgd = SGD(learning_rate=0.01, decay=1e-6, momentum=0.9, nesterov=True)\n",
        "model.compile(loss='categorical_crossentropy', optimizer=sgd, metrics=['accuracy'])"
      ]
    },
    {
      "cell_type": "code",
      "execution_count": 11,
      "metadata": {
        "colab": {
          "base_uri": "https://localhost:8080/"
        },
        "id": "l5Zh-9kMfeu2",
        "outputId": "425cd2f3-f6be-42b0-f686-c6d8a40b0077"
      },
      "outputs": [
        {
          "name": "stdout",
          "output_type": "stream",
          "text": [
            "Epoch 1/10\n",
            "19/19 [==============================] - 39s 2s/step - loss: 0.0120 - accuracy: 0.9933 - val_loss: 5.7052 - val_accuracy: 0.3100\n",
            "Epoch 2/10\n",
            "19/19 [==============================] - 39s 2s/step - loss: 0.0279 - accuracy: 0.9950 - val_loss: 5.2995 - val_accuracy: 0.3100\n",
            "Epoch 3/10\n",
            "19/19 [==============================] - 38s 2s/step - loss: 0.0025 - accuracy: 1.0000 - val_loss: 5.1498 - val_accuracy: 0.3200\n",
            "Epoch 4/10\n",
            "19/19 [==============================] - 39s 2s/step - loss: 0.0053 - accuracy: 0.9983 - val_loss: 5.0132 - val_accuracy: 0.3300\n",
            "Epoch 5/10\n",
            "19/19 [==============================] - 39s 2s/step - loss: 0.0024 - accuracy: 1.0000 - val_loss: 5.2880 - val_accuracy: 0.3200\n",
            "Epoch 6/10\n",
            "19/19 [==============================] - 38s 2s/step - loss: 5.2118e-04 - accuracy: 1.0000 - val_loss: 5.5194 - val_accuracy: 0.3200\n",
            "Epoch 7/10\n",
            "19/19 [==============================] - 39s 2s/step - loss: 3.0471e-04 - accuracy: 1.0000 - val_loss: 5.6687 - val_accuracy: 0.3200\n",
            "Epoch 8/10\n",
            "19/19 [==============================] - 39s 2s/step - loss: 2.2467e-04 - accuracy: 1.0000 - val_loss: 5.7869 - val_accuracy: 0.3200\n",
            "Epoch 9/10\n",
            "19/19 [==============================] - 40s 2s/step - loss: 2.8721e-04 - accuracy: 1.0000 - val_loss: 5.8863 - val_accuracy: 0.3200\n",
            "Epoch 10/10\n",
            "19/19 [==============================] - 38s 2s/step - loss: 2.5572e-04 - accuracy: 1.0000 - val_loss: 5.9959 - val_accuracy: 0.3200\n",
            "4/4 [==============================] - 1s 150ms/step - loss: 5.9959 - accuracy: 0.3200\n"
          ]
        },
        {
          "data": {
            "text/plain": [
              "0.3199999928474426"
            ]
          },
          "execution_count": 11,
          "metadata": {},
          "output_type": "execute_result"
        }
      ],
      "source": [
        "history = model.fit(newX_train[:600], Y_train[:600], batch_size=32, validation_data=(verX_test[:100],Y_test[:100]), epochs=10, verbose=1)\n",
        "model.evaluate(verX_test[:100], Y_test[:100], batch_size=32)[1]"
      ]
    },
    {
      "cell_type": "markdown",
      "metadata": {
        "id": "VQNBshiq5zWF"
      },
      "source": [
        "##### The vertical flip test accuracy is 0.32, which is greatly reduced compared to previous one.\n"
      ]
    },
    {
      "cell_type": "code",
      "execution_count": 9,
      "metadata": {
        "colab": {
          "base_uri": "https://localhost:8080/"
        },
        "id": "EcTCwuJT5tPX",
        "outputId": "0130594c-0073-49d0-9ef1-f28ac9f011a2"
      },
      "outputs": [
        {
          "name": "stdout",
          "output_type": "stream",
          "text": [
            "Epoch 1/10\n",
            "19/19 [==============================] - 40s 2s/step - loss: 0.0336 - accuracy: 0.9900 - val_loss: 5.0640 - val_accuracy: 0.3000\n",
            "Epoch 2/10\n",
            "19/19 [==============================] - 40s 2s/step - loss: 0.0302 - accuracy: 0.9883 - val_loss: 5.3502 - val_accuracy: 0.3000\n",
            "Epoch 3/10\n",
            "19/19 [==============================] - 40s 2s/step - loss: 0.0045 - accuracy: 1.0000 - val_loss: 5.0121 - val_accuracy: 0.3900\n",
            "Epoch 4/10\n",
            "19/19 [==============================] - 39s 2s/step - loss: 9.9937e-04 - accuracy: 1.0000 - val_loss: 5.5378 - val_accuracy: 0.3700\n",
            "Epoch 5/10\n",
            "19/19 [==============================] - 42s 2s/step - loss: 5.6863e-04 - accuracy: 1.0000 - val_loss: 5.7347 - val_accuracy: 0.3700\n",
            "Epoch 6/10\n",
            "19/19 [==============================] - 39s 2s/step - loss: 4.3156e-04 - accuracy: 1.0000 - val_loss: 5.8872 - val_accuracy: 0.3700\n",
            "Epoch 7/10\n",
            "19/19 [==============================] - 38s 2s/step - loss: 3.5822e-04 - accuracy: 1.0000 - val_loss: 6.0057 - val_accuracy: 0.3800\n",
            "Epoch 8/10\n",
            "19/19 [==============================] - 39s 2s/step - loss: 2.2741e-04 - accuracy: 1.0000 - val_loss: 6.1063 - val_accuracy: 0.3800\n",
            "Epoch 9/10\n",
            "19/19 [==============================] - 38s 2s/step - loss: 2.9292e-04 - accuracy: 1.0000 - val_loss: 6.1976 - val_accuracy: 0.3800\n",
            "Epoch 10/10\n",
            "19/19 [==============================] - 38s 2s/step - loss: 1.6532e-04 - accuracy: 1.0000 - val_loss: 6.2823 - val_accuracy: 0.3800\n",
            "4/4 [==============================] - 1s 153ms/step - loss: 6.2823 - accuracy: 0.3800\n"
          ]
        },
        {
          "data": {
            "text/plain": [
              "0.3799999952316284"
            ]
          },
          "execution_count": 9,
          "metadata": {},
          "output_type": "execute_result"
        }
      ],
      "source": [
        "history = model.fit(newX_train[:600], Y_train[:600], batch_size=32, validation_data=(horX_test[:100], Y_test[:100]), epochs=10, verbose=1)\n",
        "model.evaluate(horX_test[:100], Y_test[:100], batch_size=32)[1]"
      ]
    },
    {
      "cell_type": "markdown",
      "metadata": {
        "id": "mCCexyzsjGZ9"
      },
      "source": [
        "##### The vertical flip test accuracy is 0.38, which is greatly reduced compared to previous one."
      ]
    }
  ],
  "metadata": {
    "colab": {
      "collapsed_sections": [],
      "name": "A3E1_3.ipynb",
      "provenance": []
    },
    "kernelspec": {
      "display_name": "Python 3",
      "name": "python3"
    },
    "language_info": {
      "name": "python"
    }
  },
  "nbformat": 4,
  "nbformat_minor": 0
}
