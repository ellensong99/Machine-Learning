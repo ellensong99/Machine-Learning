{
  "cells": [
    {
      "cell_type": "markdown",
      "metadata": {
        "id": "D5ZInUjkPBwT"
      },
      "source": [
        "### CNN Implementation "
      ]
    },
    {
      "cell_type": "markdown",
      "metadata": {
        "id": "faqEUoDMaG3s"
      },
      "source": [
        "#### Part 1 Implement and train a VGG11 net on the MNIST dataset\n",
        "\n"
      ]
    },
    {
      "cell_type": "code",
      "execution_count": 1,
      "metadata": {
        "id": "6pMP01CzRIr1"
      },
      "outputs": [],
      "source": [
        "import numpy as np\n",
        "import keras\n",
        "from keras.datasets import mnist \n",
        "import matplotlib.pyplot as plt\n",
        "import tensorflow as tf\n",
        "import cv2\n",
        "\n",
        "(X_train, Y_train), (X_test, Y_test) = mnist.load_data()"
      ]
    },
    {
      "cell_type": "code",
      "execution_count": 2,
      "metadata": {
        "id": "oxUAOEHgiNhO"
      },
      "outputs": [],
      "source": [
        "def resizing(mnist):\n",
        "     train_data = []\n",
        "     for img in mnist:\n",
        "            resized_img = cv2.resize(img, (32, 32))\n",
        "            train_data.append(resized_img)\n",
        "     return train_data\n",
        "newX_train = np.array(resizing(X_train))\n",
        "newX_test = np.array(resizing(X_test))"
      ]
    },
    {
      "cell_type": "code",
      "execution_count": 3,
      "metadata": {
        "id": "LkFE1hIvA70P"
      },
      "outputs": [],
      "source": [
        "from keras import backend\n",
        "if keras.backend.image_data_format() == 'channels_first':\n",
        "  newX_train = newX_train.reshape(len(newX_train), 1, 32, 32)\n",
        "  newX_test = newX_test.reshape(len(newX_test), 1, 32, 32)\n",
        "  input_shape = (1, 32, 32)\n",
        "else:\n",
        "  newX_train = newX_train.reshape(len(newX_train), 32, 32, 1)\n",
        "  newX_test = newX_test.reshape(len(newX_test), 32, 32, 1)\n",
        "  input_shape = (32, 32, 1)"
      ]
    },
    {
      "cell_type": "code",
      "execution_count": 4,
      "metadata": {
        "id": "giMn6X2MJLZR"
      },
      "outputs": [],
      "source": [
        "from keras.utils import np_utils\n",
        "newX_train = newX_train.astype('float32')\n",
        "newX_train /= 255\n",
        "newX_test = newX_test.astype('float32')\n",
        "newX_test /= 255\n",
        "Y_train = keras.utils.np_utils.to_categorical(Y_train, 10)\n",
        "Y_test = keras.utils.np_utils.to_categorical(Y_test, 10)"
      ]
    },
    {
      "cell_type": "code",
      "execution_count": 5,
      "metadata": {
        "colab": {
          "base_uri": "https://localhost:8080/"
        },
        "id": "5zMxoVU-BLLp",
        "outputId": "2f2ded3d-a583-4619-b092-31e6faea0cee"
      },
      "outputs": [
        {
          "name": "stdout",
          "output_type": "stream",
          "text": [
            "Model: \"sequential\"\n",
            "_________________________________________________________________\n",
            " Layer (type)                Output Shape              Param #   \n",
            "=================================================================\n",
            " conv2d (Conv2D)             (None, 32, 32, 64)        640       \n",
            "                                                                 \n",
            " max_pooling2d (MaxPooling2D  (None, 16, 16, 64)       0         \n",
            " )                                                               \n",
            "                                                                 \n",
            " conv2d_1 (Conv2D)           (None, 16, 16, 128)       73856     \n",
            "                                                                 \n",
            " max_pooling2d_1 (MaxPooling  (None, 8, 8, 128)        0         \n",
            " 2D)                                                             \n",
            "                                                                 \n",
            " conv2d_2 (Conv2D)           (None, 8, 8, 256)         295168    \n",
            "                                                                 \n",
            " conv2d_3 (Conv2D)           (None, 8, 8, 256)         590080    \n",
            "                                                                 \n",
            " max_pooling2d_2 (MaxPooling  (None, 4, 4, 256)        0         \n",
            " 2D)                                                             \n",
            "                                                                 \n",
            " conv2d_4 (Conv2D)           (None, 4, 4, 512)         1180160   \n",
            "                                                                 \n",
            " conv2d_5 (Conv2D)           (None, 4, 4, 512)         2359808   \n",
            "                                                                 \n",
            " max_pooling2d_3 (MaxPooling  (None, 2, 2, 512)        0         \n",
            " 2D)                                                             \n",
            "                                                                 \n",
            " conv2d_6 (Conv2D)           (None, 2, 2, 512)         2359808   \n",
            "                                                                 \n",
            " conv2d_7 (Conv2D)           (None, 2, 2, 512)         2359808   \n",
            "                                                                 \n",
            " max_pooling2d_4 (MaxPooling  (None, 1, 1, 512)        0         \n",
            " 2D)                                                             \n",
            "                                                                 \n",
            " flatten (Flatten)           (None, 512)               0         \n",
            "                                                                 \n",
            " dense (Dense)               (None, 4096)              2101248   \n",
            "                                                                 \n",
            " dropout (Dropout)           (None, 4096)              0         \n",
            "                                                                 \n",
            " dense_1 (Dense)             (None, 4096)              16781312  \n",
            "                                                                 \n",
            " dropout_1 (Dropout)         (None, 4096)              0         \n",
            "                                                                 \n",
            " dense_2 (Dense)             (None, 10)                40970     \n",
            "                                                                 \n",
            "=================================================================\n",
            "Total params: 28,142,858\n",
            "Trainable params: 28,142,858\n",
            "Non-trainable params: 0\n",
            "_________________________________________________________________\n"
          ]
        }
      ],
      "source": [
        "from keras.models import Sequential\n",
        "from keras.layers import Conv2D, MaxPooling2D, Dense, Dropout, Flatten \n",
        "model = Sequential()\n",
        "model.add(Conv2D(64, (3, 3), activation='relu', input_shape=input_shape, padding='same'))\n",
        "model.add(MaxPooling2D(pool_size=(2, 2), strides = (2, 2)))\n",
        "model.add(Conv2D(128, (3, 3), activation='relu', input_shape=input_shape, padding='same'))\n",
        "model.add(MaxPooling2D(pool_size=(2, 2), strides = (2, 2)))\n",
        "model.add(Conv2D(256, (3, 3), activation='relu', input_shape=input_shape, padding='same'))\n",
        "model.add(Conv2D(256, (3, 3), activation='relu', input_shape=input_shape, padding='same'))\n",
        "model.add(MaxPooling2D(pool_size=(2, 2), strides = (2, 2)))\n",
        "model.add(Conv2D(512, (3, 3), activation='relu', input_shape=input_shape, padding='same'))\n",
        "model.add(Conv2D(512, (3, 3), activation='relu', input_shape=input_shape, padding='same'))\n",
        "model.add(MaxPooling2D(pool_size=(2, 2), strides = (2, 2)))\n",
        "model.add(Conv2D(512, (3, 3), activation='relu', input_shape=input_shape, padding='same'))\n",
        "model.add(Conv2D(512, (3, 3), activation='relu', input_shape=input_shape, padding='same'))\n",
        "model.add(MaxPooling2D(pool_size=(2, 2), strides = (2, 2)))\n",
        "model.add(Flatten()) \n",
        "model.add(Dense(4096, activation='relu'))\n",
        "model.add(Dropout(0.5))\n",
        "model.add(Dense(4096, activation='relu'))\n",
        "model.add(Dropout(0.5))\n",
        "model.add(Dense(10, activation=\"softmax\"))\n",
        "model.summary()"
      ]
    },
    {
      "cell_type": "code",
      "execution_count": 6,
      "metadata": {
        "id": "ZHdZ43RaIIJr"
      },
      "outputs": [],
      "source": [
        "from tensorflow.keras.optimizers import SGD\n",
        "sgd = SGD(learning_rate=0.01, decay=1e-6, momentum=0.9, nesterov=True)\n",
        "model.compile(loss='categorical_crossentropy', optimizer=sgd, metrics=['accuracy'])"
      ]
    },
    {
      "cell_type": "code",
      "execution_count": 7,
      "metadata": {
        "colab": {
          "base_uri": "https://localhost:8080/"
        },
        "id": "uD5Fq28X5ucr",
        "outputId": "4e57d481-833d-4a73-e63b-59fb839a3ec5"
      },
      "outputs": [
        {
          "name": "stdout",
          "output_type": "stream",
          "text": [
            "Epoch 1/10\n",
            "188/188 [==============================] - 415s 2s/step - loss: 2.3008 - accuracy: 0.1127 - val_loss: 2.2964 - val_accuracy: 0.1560\n",
            "Epoch 2/10\n",
            "188/188 [==============================] - 437s 2s/step - loss: 1.9827 - accuracy: 0.2945 - val_loss: 1.0259 - val_accuracy: 0.6380\n",
            "Epoch 3/10\n",
            "188/188 [==============================] - 415s 2s/step - loss: 0.4924 - accuracy: 0.8400 - val_loss: 0.3310 - val_accuracy: 0.9110\n",
            "Epoch 4/10\n",
            "188/188 [==============================] - 410s 2s/step - loss: 0.2006 - accuracy: 0.9410 - val_loss: 0.2103 - val_accuracy: 0.9370\n",
            "Epoch 5/10\n",
            "188/188 [==============================] - 406s 2s/step - loss: 0.1286 - accuracy: 0.9660 - val_loss: 0.2151 - val_accuracy: 0.9370\n",
            "Epoch 6/10\n",
            "188/188 [==============================] - 399s 2s/step - loss: 0.1023 - accuracy: 0.9690 - val_loss: 0.2247 - val_accuracy: 0.9400\n",
            "Epoch 7/10\n",
            "188/188 [==============================] - 412s 2s/step - loss: 0.0759 - accuracy: 0.9772 - val_loss: 0.1989 - val_accuracy: 0.9510\n",
            "Epoch 8/10\n",
            "188/188 [==============================] - 424s 2s/step - loss: 0.0549 - accuracy: 0.9835 - val_loss: 0.1281 - val_accuracy: 0.9630\n",
            "Epoch 9/10\n",
            "188/188 [==============================] - 423s 2s/step - loss: 0.0544 - accuracy: 0.9833 - val_loss: 0.0969 - val_accuracy: 0.9720\n",
            "Epoch 10/10\n",
            "188/188 [==============================] - 421s 2s/step - loss: 0.0437 - accuracy: 0.9867 - val_loss: 0.1620 - val_accuracy: 0.9560\n",
            "32/32 [==============================] - 7s 203ms/step - loss: 0.1620 - accuracy: 0.9560\n"
          ]
        },
        {
          "data": {
            "text/plain": [
              "[0.16195669770240784, 0.9559999704360962]"
            ]
          },
          "execution_count": 7,
          "metadata": {},
          "output_type": "execute_result"
        }
      ],
      "source": [
        "history = model.fit(newX_train[:6000], Y_train[:6000], batch_size=32, validation_data=(newX_test[:1000],Y_test[:1000]), epochs=10, verbose=1)\n",
        "model.evaluate(newX_test[:1000], Y_test[:1000], batch_size=32)"
      ]
    },
    {
      "cell_type": "code",
      "execution_count": 8,
      "metadata": {
        "colab": {
          "base_uri": "https://localhost:8080/"
        },
        "id": "g1GsBneRQAPB",
        "outputId": "ceecf6f4-20de-4d0b-d303-a368ecc29b17"
      },
      "outputs": [
        {
          "name": "stdout",
          "output_type": "stream",
          "text": [
            "32/32 [==============================] - 7s 207ms/step - loss: 0.1620 - accuracy: 0.9560\n"
          ]
        },
        {
          "data": {
            "text/plain": [
              "[0.16195669770240784, 0.9559999704360962]"
            ]
          },
          "execution_count": 8,
          "metadata": {},
          "output_type": "execute_result"
        }
      ],
      "source": [
        "model.evaluate(newX_test[:1000], Y_test[:1000], batch_size=32)"
      ]
    },
    {
      "cell_type": "markdown",
      "metadata": {
        "id": "tzrJRLAMaLAM"
      },
      "source": [
        "#### Part 2 Inspect the training process"
      ]
    },
    {
      "cell_type": "code",
      "execution_count": 11,
      "metadata": {
        "colab": {
          "base_uri": "https://localhost:8080/",
          "height": 1000
        },
        "id": "uuXXvJdbWOf4",
        "outputId": "79d7f530-d654-496b-97f1-aa5a48619bf5"
      },
      "outputs": [
        {
          "data": {
            "image/png": "[encoded data removed]",
            "text/plain": [
              "<Figure size 432x288 with 1 Axes>"
            ]
          },
          "metadata": {
            "needs_background": "light"
          },
          "output_type": "display_data"
        },
        {
          "data": {
            "image/png": "[encoded data removed]",
            "text/plain": [
              "<Figure size 432x288 with 1 Axes>"
            ]
          },
          "metadata": {
            "needs_background": "light"
          },
          "output_type": "display_data"
        },
        {
          "data": {
            "image/png": "[encoded data removed]",
            "text/plain": [
              "<Figure size 432x288 with 1 Axes>"
            ]
          },
          "metadata": {
            "needs_background": "light"
          },
          "output_type": "display_data"
        },
        {
          "data": {
            "image/png": "[encoded data removed]",
            "text/plain": [
              "<Figure size 432x288 with 1 Axes>"
            ]
          },
          "metadata": {
            "needs_background": "light"
          },
          "output_type": "display_data"
        }
      ],
      "source": [
        "# (i) test accuracy vs the number of epochs (say 3 ∼ 5)\n",
        "plt.plot(history.history['val_accuracy'])\n",
        "plt.title('Test Accuracy vs Number of Epochs')\n",
        "plt.ylabel('Test Accuracy')\n",
        "plt.xlabel('Number of Epochs')\n",
        "plt.show()\n",
        "# (ii) training accuracy vs the number of epochs\n",
        "plt.plot(history.history['accuracy'])\n",
        "plt.title('Train Accuracy vs Number of Epochs')\n",
        "plt.ylabel('Train Accuracy')\n",
        "plt.xlabel('Number of Epochs')\n",
        "plt.show()\n",
        "# (iii) test loss vs the number of epochs\n",
        "plt.plot(history.history['val_loss'])\n",
        "plt.title('Test Loss vs Number of Epochs')\n",
        "plt.ylabel('Test Loss')\n",
        "plt.xlabel('Number of Epochs')\n",
        "plt.show()\n",
        "# (iv) training loss vs the number of epochs\n",
        "plt.plot(history.history['loss'])\n",
        "plt.title('Train Loss vs Number of Epochs')\n",
        "plt.ylabel('Train Loss')\n",
        "plt.xlabel('Number of Epochs')\n",
        "plt.show()"
      ]
    }
  ],
  "metadata": {
    "colab": {
      "collapsed_sections": [],
      "name": "A3E1_1.ipynb",
      "provenance": []
    },
    "kernelspec": {
      "display_name": "Python 3",
      "name": "python3"
    },
    "language_info": {
      "name": "python"
    }
  },
  "nbformat": 4,
  "nbformat_minor": 0
}
