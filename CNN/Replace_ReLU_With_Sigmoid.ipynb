{
  "nbformat": 4,
  "nbformat_minor": 0,
  "metadata": {
    "colab": {
      "name": "A3E1_6.ipynb",
      "provenance": [],
      "collapsed_sections": []
    },
    "kernelspec": {
      "name": "python3",
      "display_name": "Python 3"
    },
    "language_info": {
      "name": "python"
    }
  },
  "cells": [
    {
      "cell_type": "markdown",
      "source": [
        "#### Part 6 Replace ReLU activation with Sigmoid in CNN\n",
        "\n"
      ],
      "metadata": {
        "id": "faqEUoDMaG3s"
      }
    },
    {
      "cell_type": "code",
      "source": [
        "import numpy as np\n",
        "import keras\n",
        "from keras.datasets import mnist \n",
        "import matplotlib.pyplot as plt\n",
        "import tensorflow as tf\n",
        "import cv2\n",
        "\n",
        "(X_train, Y_train), (X_test, Y_test) = mnist.load_data()"
      ],
      "metadata": {
        "id": "6pMP01CzRIr1"
      },
      "execution_count": 2,
      "outputs": []
    },
    {
      "cell_type": "code",
      "source": [
        "def resizing(mnist):\n",
        "     train_data = []\n",
        "     for img in mnist:\n",
        "            resized_img = cv2.resize(img, (32, 32))\n",
        "            train_data.append(resized_img)\n",
        "     return train_data\n",
        "newX_train = np.array(resizing(X_train))\n",
        "newX_test = np.array(resizing(X_test))"
      ],
      "metadata": {
        "id": "oxUAOEHgiNhO"
      },
      "execution_count": 3,
      "outputs": []
    },
    {
      "cell_type": "code",
      "source": [
        "from keras import backend\n",
        "if keras.backend.image_data_format() == 'channels_first':\n",
        "  newX_train = newX_train.reshape(len(newX_train), 1, 32, 32)\n",
        "  newX_test = newX_test.reshape(len(newX_test), 1, 32, 32)\n",
        "  input_shape = (1, 32, 32)\n",
        "else:\n",
        "  newX_train = newX_train.reshape(len(newX_train), 32, 32, 1)\n",
        "  newX_test = newX_test.reshape(len(newX_test), 32, 32, 1)\n",
        "  input_shape = (32, 32, 1)"
      ],
      "metadata": {
        "id": "LkFE1hIvA70P"
      },
      "execution_count": 4,
      "outputs": []
    },
    {
      "cell_type": "code",
      "source": [
        "from keras.utils import np_utils\n",
        "newX_train = newX_train.astype('float32')\n",
        "newX_train /= 255\n",
        "newX_test = newX_test.astype('float32')\n",
        "newX_test /= 255\n",
        "Y_train = keras.utils.np_utils.to_categorical(Y_train, 10)\n",
        "Y_test = keras.utils.np_utils.to_categorical(Y_test, 10)"
      ],
      "metadata": {
        "id": "giMn6X2MJLZR"
      },
      "execution_count": 5,
      "outputs": []
    },
    {
      "cell_type": "code",
      "source": [
        "from keras.models import Sequential\n",
        "from keras.layers import Conv2D, MaxPooling2D, Dense, Dropout, Flatten \n",
        "model = Sequential()\n",
        "model.add(Conv2D(64, (3, 3), activation='sigmoid', input_shape=input_shape, padding='same'))\n",
        "model.add(MaxPooling2D(pool_size=(2, 2), strides = (2, 2)))\n",
        "model.add(Conv2D(128, (3, 3), activation='sigmoid', input_shape=input_shape, padding='same'))\n",
        "model.add(MaxPooling2D(pool_size=(2, 2), strides = (2, 2)))\n",
        "model.add(Conv2D(256, (3, 3), activation='sigmoid', input_shape=input_shape, padding='same'))\n",
        "model.add(Conv2D(256, (3, 3), activation='sigmoid', input_shape=input_shape, padding='same'))\n",
        "model.add(MaxPooling2D(pool_size=(2, 2), strides = (2, 2)))\n",
        "model.add(Conv2D(512, (3, 3), activation='sigmoid', input_shape=input_shape, padding='same'))\n",
        "model.add(Conv2D(512, (3, 3), activation='sigmoid', input_shape=input_shape, padding='same'))\n",
        "model.add(MaxPooling2D(pool_size=(2, 2), strides = (2, 2)))\n",
        "model.add(Conv2D(512, (3, 3), activation='sigmoid', input_shape=input_shape, padding='same'))\n",
        "model.add(Conv2D(512, (3, 3), activation='sigmoid', input_shape=input_shape, padding='same'))\n",
        "model.add(MaxPooling2D(pool_size=(2, 2), strides = (2, 2)))\n",
        "model.add(Flatten()) \n",
        "model.add(Dense(4096, activation='sigmoid'))\n",
        "model.add(Dropout(0.5))\n",
        "model.add(Dense(4096, activation='sigmoid'))\n",
        "model.add(Dropout(0.5))\n",
        "model.add(Dense(10, activation='softmax'))\n",
        "model.summary()"
      ],
      "metadata": {
        "colab": {
          "base_uri": "https://localhost:8080/"
        },
        "id": "5zMxoVU-BLLp",
        "outputId": "e731d147-6390-4402-fad6-5c45d6d306cd"
      },
      "execution_count": 6,
      "outputs": [
        {
          "output_type": "stream",
          "name": "stdout",
          "text": [
            "Model: \"sequential\"\n",
            "_________________________________________________________________\n",
            " Layer (type)                Output Shape              Param #   \n",
            "=================================================================\n",
            " conv2d (Conv2D)             (None, 32, 32, 64)        640       \n",
            "                                                                 \n",
            " max_pooling2d (MaxPooling2D  (None, 16, 16, 64)       0         \n",
            " )                                                               \n",
            "                                                                 \n",
            " conv2d_1 (Conv2D)           (None, 16, 16, 128)       73856     \n",
            "                                                                 \n",
            " max_pooling2d_1 (MaxPooling  (None, 8, 8, 128)        0         \n",
            " 2D)                                                             \n",
            "                                                                 \n",
            " conv2d_2 (Conv2D)           (None, 8, 8, 256)         295168    \n",
            "                                                                 \n",
            " conv2d_3 (Conv2D)           (None, 8, 8, 256)         590080    \n",
            "                                                                 \n",
            " max_pooling2d_2 (MaxPooling  (None, 4, 4, 256)        0         \n",
            " 2D)                                                             \n",
            "                                                                 \n",
            " conv2d_4 (Conv2D)           (None, 4, 4, 512)         1180160   \n",
            "                                                                 \n",
            " conv2d_5 (Conv2D)           (None, 4, 4, 512)         2359808   \n",
            "                                                                 \n",
            " max_pooling2d_3 (MaxPooling  (None, 2, 2, 512)        0         \n",
            " 2D)                                                             \n",
            "                                                                 \n",
            " conv2d_6 (Conv2D)           (None, 2, 2, 512)         2359808   \n",
            "                                                                 \n",
            " conv2d_7 (Conv2D)           (None, 2, 2, 512)         2359808   \n",
            "                                                                 \n",
            " max_pooling2d_4 (MaxPooling  (None, 1, 1, 512)        0         \n",
            " 2D)                                                             \n",
            "                                                                 \n",
            " flatten (Flatten)           (None, 512)               0         \n",
            "                                                                 \n",
            " dense (Dense)               (None, 4096)              2101248   \n",
            "                                                                 \n",
            " dropout (Dropout)           (None, 4096)              0         \n",
            "                                                                 \n",
            " dense_1 (Dense)             (None, 4096)              16781312  \n",
            "                                                                 \n",
            " dropout_1 (Dropout)         (None, 4096)              0         \n",
            "                                                                 \n",
            " dense_2 (Dense)             (None, 10)                40970     \n",
            "                                                                 \n",
            "=================================================================\n",
            "Total params: 28,142,858\n",
            "Trainable params: 28,142,858\n",
            "Non-trainable params: 0\n",
            "_________________________________________________________________\n"
          ]
        }
      ]
    },
    {
      "cell_type": "code",
      "source": [
        "from tensorflow.keras.optimizers import SGD\n",
        "sgd = SGD(learning_rate=0.01, decay=1e-6, momentum=0.9, nesterov=True)\n",
        "model.compile(loss='categorical_crossentropy', optimizer=sgd, metrics=['accuracy'])"
      ],
      "metadata": {
        "id": "ZHdZ43RaIIJr"
      },
      "execution_count": 8,
      "outputs": []
    },
    {
      "cell_type": "code",
      "source": [
        "history = model.fit(newX_train[:6000], Y_train[:6000], batch_size=32, validation_data=(newX_test[:1000],Y_test[:1000]), epochs=10, verbose=1)\n",
        "score = model.evaluate(newX_test[:1000], Y_test[:1000], batch_size=32)"
      ],
      "metadata": {
        "colab": {
          "base_uri": "https://localhost:8080/"
        },
        "id": "uD5Fq28X5ucr",
        "outputId": "3f756ece-f29d-40ed-8061-ce8f407f6f5c"
      },
      "execution_count": 10,
      "outputs": [
        {
          "output_type": "stream",
          "name": "stdout",
          "text": [
            "Epoch 1/10\n",
            "188/188 [==============================] - 380s 2s/step - loss: 2.4257 - accuracy: 0.1032 - val_loss: 2.3298 - val_accuracy: 0.0850\n",
            "Epoch 2/10\n",
            "188/188 [==============================] - 388s 2s/step - loss: 2.3614 - accuracy: 0.0982 - val_loss: 2.3160 - val_accuracy: 0.1260\n",
            "Epoch 3/10\n",
            "188/188 [==============================] - 379s 2s/step - loss: 2.3292 - accuracy: 0.1013 - val_loss: 2.3162 - val_accuracy: 0.0890\n",
            "Epoch 4/10\n",
            "188/188 [==============================] - 372s 2s/step - loss: 2.3183 - accuracy: 0.1107 - val_loss: 2.3031 - val_accuracy: 0.1100\n",
            "Epoch 5/10\n",
            "188/188 [==============================] - 370s 2s/step - loss: 2.3156 - accuracy: 0.1008 - val_loss: 2.3139 - val_accuracy: 0.0940\n",
            "Epoch 6/10\n",
            "188/188 [==============================] - 368s 2s/step - loss: 2.3124 - accuracy: 0.1058 - val_loss: 2.3002 - val_accuracy: 0.0990\n",
            "Epoch 7/10\n",
            "188/188 [==============================] - 364s 2s/step - loss: 2.3076 - accuracy: 0.1098 - val_loss: 2.3017 - val_accuracy: 0.1260\n",
            "Epoch 8/10\n",
            "188/188 [==============================] - 355s 2s/step - loss: 2.3088 - accuracy: 0.1040 - val_loss: 2.3035 - val_accuracy: 0.0990\n",
            "Epoch 9/10\n",
            "188/188 [==============================] - 351s 2s/step - loss: 2.3071 - accuracy: 0.0997 - val_loss: 2.3046 - val_accuracy: 0.1260\n",
            "Epoch 10/10\n",
            "188/188 [==============================] - 350s 2s/step - loss: 2.3079 - accuracy: 0.1015 - val_loss: 2.3002 - val_accuracy: 0.1260\n",
            "32/32 [==============================] - 6s 202ms/step - loss: 2.3002 - accuracy: 0.1260\n"
          ]
        }
      ]
    },
    {
      "cell_type": "markdown",
      "source": [
        "#### Inspect the training process"
      ],
      "metadata": {
        "id": "tzrJRLAMaLAM"
      }
    },
    {
      "cell_type": "code",
      "source": [
        "# (i) test accuracy vs the number of epochs (say 3 ∼ 5)\n",
        "plt.plot(history.history['val_accuracy'])\n",
        "plt.title('Test Accuracy vs Number of Epochs')\n",
        "plt.ylabel('Test Accuracy')\n",
        "plt.xlabel('Number of Epochs')\n",
        "plt.show()\n",
        "# (ii) training accuracy vs the number of epochs\n",
        "plt.plot(history.history['accuracy'])\n",
        "plt.title('Train Accuracy vs Number of Epochs')\n",
        "plt.ylabel('Train Accuracy')\n",
        "plt.xlabel('Number of Epochs')\n",
        "plt.show()"
      ],
      "metadata": {
        "id": "uuXXvJdbWOf4",
        "colab": {
          "base_uri": "https://localhost:8080/",
          "height": 573
        },
        "outputId": "d7d65893-6249-4d70-b34a-759619b2d1d9"
      },
      "execution_count": 11,
      "outputs": [
        {
          "output_type": "display_data",
          "data": {
            "image/png": "[encoded data removed]",
            "text/plain": [
              "<Figure size 432x288 with 1 Axes>"
            ]
          },
          "metadata": {
            "needs_background": "light"
          }
        },
        {
          "output_type": "display_data",
          "data": {
            "image/png": "[encoded data removed]",
            "text/plain": [
              "<Figure size 432x288 with 1 Axes>"
            ]
          },
          "metadata": {
            "needs_background": "light"
          }
        }
      ]
    },
    {
      "cell_type": "markdown",
      "source": [
        "#### Obviously, accuracies greatly decreased compared to accuracies in Ex1.2. This is due to gradient varnishing."
      ],
      "metadata": {
        "id": "rdlMJn19BRYh"
      }
    },
    {
      "cell_type": "code",
      "source": [
        "!wget -nc https://raw.githubusercontent.com/brpy/colab-pdf/master/colab_pdf.py\n",
        "from colab_pdf import colab_pdf\n",
        "colab_pdf('A3E1_6.ipynb')"
      ],
      "metadata": {
        "colab": {
          "base_uri": "https://localhost:8080/",
          "height": 587
        },
        "id": "K4nxLH93BhGx",
        "outputId": "901152a8-da4c-4ad8-8dbc-19f05887d696"
      },
      "execution_count": 12,
      "outputs": [
        {
          "output_type": "stream",
          "name": "stdout",
          "text": [
            "--2022-03-03 06:18:16--  https://raw.githubusercontent.com/brpy/colab-pdf/master/colab_pdf.py\n",
            "Resolving raw.githubusercontent.com (raw.githubusercontent.com)... 185.199.108.133, 185.199.109.133, 185.199.110.133, ...\n",
            "Connecting to raw.githubusercontent.com (raw.githubusercontent.com)|185.199.108.133|:443... connected.\n",
            "HTTP request sent, awaiting response... 200 OK\n",
            "Length: 1864 (1.8K) [text/plain]\n",
            "Saving to: ‘colab_pdf.py’\n",
            "\n",
            "\rcolab_pdf.py          0%[                    ]       0  --.-KB/s               \rcolab_pdf.py        100%[===================>]   1.82K  --.-KB/s    in 0s      \n",
            "\n",
            "2022-03-03 06:18:16 (30.5 MB/s) - ‘colab_pdf.py’ saved [1864/1864]\n",
            "\n",
            "Mounted at /content/drive/\n",
            "\n",
            "WARNING: apt does not have a stable CLI interface. Use with caution in scripts.\n",
            "\n",
            "\n",
            "WARNING: apt does not have a stable CLI interface. Use with caution in scripts.\n",
            "\n",
            "Extracting templates from packages: 100%\n",
            "[NbConvertApp] Converting notebook /content/drive/MyDrive/Colab Notebooks/A3E1_6.ipynb to pdf\n",
            "[NbConvertApp] Support files will be in A3E1_6_files/\n",
            "[NbConvertApp] Making directory ./A3E1_6_files\n",
            "[NbConvertApp] Making directory ./A3E1_6_files\n",
            "[NbConvertApp] Writing 40348 bytes to ./notebook.tex\n",
            "[NbConvertApp] Building PDF\n",
            "[NbConvertApp] Running xelatex 3 times: [u'xelatex', u'./notebook.tex', '-quiet']\n",
            "[NbConvertApp] Running bibtex 1 time: [u'bibtex', u'./notebook']\n",
            "[NbConvertApp] WARNING | bibtex had problems, most likely because there were no citations\n",
            "[NbConvertApp] PDF successfully created\n",
            "[NbConvertApp] Writing 66140 bytes to /content/drive/My Drive/A3E1_6.pdf\n"
          ]
        },
        {
          "output_type": "display_data",
          "data": {
            "application/javascript": [
              "\n",
              "    async function download(id, filename, size) {\n",
              "      if (!google.colab.kernel.accessAllowed) {\n",
              "        return;\n",
              "      }\n",
              "      const div = document.createElement('div');\n",
              "      const label = document.createElement('label');\n",
              "      label.textContent = `Downloading \"${filename}\": `;\n",
              "      div.appendChild(label);\n",
              "      const progress = document.createElement('progress');\n",
              "      progress.max = size;\n",
              "      div.appendChild(progress);\n",
              "      document.body.appendChild(div);\n",
              "\n",
              "      const buffers = [];\n",
              "      let downloaded = 0;\n",
              "\n",
              "      const channel = await google.colab.kernel.comms.open(id);\n",
              "      // Send a message to notify the kernel that we're ready.\n",
              "      channel.send({})\n",
              "\n",
              "      for await (const message of channel.messages) {\n",
              "        // Send a message to notify the kernel that we're ready.\n",
              "        channel.send({})\n",
              "        if (message.buffers) {\n",
              "          for (const buffer of message.buffers) {\n",
              "            buffers.push(buffer);\n",
              "            downloaded += buffer.byteLength;\n",
              "            progress.value = downloaded;\n",
              "          }\n",
              "        }\n",
              "      }\n",
              "      const blob = new Blob(buffers, {type: 'application/binary'});\n",
              "      const a = document.createElement('a');\n",
              "      a.href = window.URL.createObjectURL(blob);\n",
              "      a.download = filename;\n",
              "      div.appendChild(a);\n",
              "      a.click();\n",
              "      div.remove();\n",
              "    }\n",
              "  "
            ],
            "text/plain": [
              "<IPython.core.display.Javascript object>"
            ]
          },
          "metadata": {}
        },
        {
          "output_type": "display_data",
          "data": {
            "application/javascript": [
              "download(\"download_da3f2c12-8686-4bd5-9242-d0bc293a9cbb\", \"A3E1_6.pdf\", 66140)"
            ],
            "text/plain": [
              "<IPython.core.display.Javascript object>"
            ]
          },
          "metadata": {}
        },
        {
          "output_type": "execute_result",
          "data": {
            "application/vnd.google.colaboratory.intrinsic+json": {
              "type": "string"
            },
            "text/plain": [
              "'File ready to be Downloaded and Saved to Drive'"
            ]
          },
          "metadata": {},
          "execution_count": 12
        }
      ]
    }
  ]
}